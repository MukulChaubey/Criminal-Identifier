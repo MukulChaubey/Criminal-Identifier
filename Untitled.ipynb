{
 "cells": [
  {
   "cell_type": "code",
   "execution_count": 1,
   "metadata": {},
   "outputs": [],
   "source": [
    "import os\n",
    "import cv2\n",
    "import pickle\n",
    "import numpy as np\n",
    "from PIL import Image"
   ]
  },
  {
   "cell_type": "code",
   "execution_count": 2,
   "metadata": {},
   "outputs": [],
   "source": [
    "base =r'C:\\Users\\internet\\Desktop\\face_recognisation'\n"
   ]
  },
  {
   "cell_type": "code",
   "execution_count": 3,
   "metadata": {},
   "outputs": [],
   "source": [
    "face_ = cv2.CascadeClassifier('data/haarcascade_frontalface_alt2.xml')\n",
    "recognizer = cv2.face.LBPHFaceRecognizer_create()\n",
    "img_ = os.path.join(base,\"img\")\n",
    "# print(img_)\n",
    "c_id =0\n",
    "l_ids = {}\n",
    "x_train=[]\n",
    "y_labels=[]"
   ]
  },
  {
   "cell_type": "code",
   "execution_count": 4,
   "metadata": {},
   "outputs": [
    {
     "name": "stdout",
     "output_type": "stream",
     "text": [
      "<generator object walk at 0x00000260330EFE58>\n"
     ]
    }
   ],
   "source": [
    "print( os.walk(img_))\n",
    "for root,dirs,files in os.walk(img_):\n",
    "    for file in files:\n",
    "        if file.endswith(\"jpg\") or file.endswith(\"jfif\"):\n",
    "            path = os.path.join(root, file)\n",
    "            label= os.path.basename(root).replace(\" \",\"-\").lower()\n",
    "            if label in l_ids:\n",
    "                pass\n",
    "            else:\n",
    "                l_ids[label]= c_id\n",
    "                c_id += 1\n",
    "            id_ = l_ids[label]\n",
    "#             print(l_ids)\n",
    "\n",
    "            pil_img = Image.open(path).convert(\"L\")\n",
    "            img_arr = np.array(pil_img,\"uint8\")\n",
    "#             print(img_arr)\n",
    "            faces = face_.detectMultiScale(img_arr, scaleFactor=1.5, minNeighbors=5)\n",
    "    \n",
    "            for(x,y,w,h) in faces:\n",
    "                roi = img_arr[y:y+h,x:x+w]\n",
    "                x_train.append(roi)\n",
    "                y_labels.append(id_)"
   ]
  },
  {
   "cell_type": "code",
   "execution_count": 5,
   "metadata": {},
   "outputs": [],
   "source": [
    "with open(\"labels.pickle\",\"wb\") as f:\n",
    "    pickle.dump(l_ids,f)\n",
    "recognizer.train(x_train,np.array(y_labels))\n",
    "recognizer.save(\"trainner.yml\")"
   ]
  },
  {
   "cell_type": "code",
   "execution_count": null,
   "metadata": {},
   "outputs": [],
   "source": []
  },
  {
   "cell_type": "code",
   "execution_count": null,
   "metadata": {},
   "outputs": [],
   "source": []
  }
 ],
 "metadata": {
  "kernelspec": {
   "display_name": "Python 3",
   "language": "python",
   "name": "python3"
  },
  "language_info": {
   "codemirror_mode": {
    "name": "ipython",
    "version": 3
   },
   "file_extension": ".py",
   "mimetype": "text/x-python",
   "name": "python",
   "nbconvert_exporter": "python",
   "pygments_lexer": "ipython3",
   "version": "3.7.3"
  }
 },
 "nbformat": 4,
 "nbformat_minor": 2
}
