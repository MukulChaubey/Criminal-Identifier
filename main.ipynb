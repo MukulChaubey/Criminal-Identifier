{
 "cells": [
  {
   "cell_type": "code",
   "execution_count": 1,
   "metadata": {},
   "outputs": [],
   "source": [
    "import cv2\n",
    "import pickle"
   ]
  },
  {
   "cell_type": "code",
   "execution_count": 2,
   "metadata": {},
   "outputs": [],
   "source": [
    "model = cv2.face.LBPHFaceRecognizer_create()\n",
    "face_ = cv2.CascadeClassifier('data/haarcascade_frontalface_alt2.xml')"
   ]
  },
  {
   "cell_type": "code",
   "execution_count": null,
   "metadata": {},
   "outputs": [],
   "source": []
  },
  {
   "cell_type": "code",
   "execution_count": 3,
   "metadata": {
    "scrolled": true
   },
   "outputs": [
    {
     "name": "stdout",
     "output_type": "stream",
     "text": [
      "{0: 'ankur', 1: 'disha', 2: 'hrithik', 3: 'kranthi', 4: 'mayank', 5: 'salim', 6: 'shraddha', 7: 'srk'}\n"
     ]
    }
   ],
   "source": [
    "model.read(\"trainner.yml\")\n",
    "l={}\n",
    "with open(\"labels.pickle\",\"rb\") as f:\n",
    "    og_=pickle.load(f)\n",
    "    l={v:k for k,v in og_.items()}\n",
    "print(l)\n",
    "cap =cv2.VideoCapture(0)\n"
   ]
  },
  {
   "cell_type": "code",
   "execution_count": null,
   "metadata": {},
   "outputs": [],
   "source": [
    "def abcd():\n",
    "    global name\n",
    "    while(True):\n",
    "        ret,frame =cap.read()\n",
    "        gray = cv2.cvtColor(frame, cv2.COLOR_BGR2GRAY)\n",
    "        faces = face_.detectMultiScale(gray , scaleFactor=1.5, minNeighbors=5)\n",
    "        for (x,y,w,h) in faces:\n",
    "            roi_gray = gray[y:y+h,x:x+w]\n",
    "    #         img_item=\"5.jpg\"\n",
    "    #         cv2.imwrite(img_item,roi_gray)\n",
    "            id_,conf = model.predict(roi_gray)\n",
    "            if conf>=45 and conf<=80:\n",
    "    #             print(id_)\n",
    "    #             print(l[id_])\n",
    "                font = cv2.FONT_HERSHEY_SIMPLEX\n",
    "                name= l[id_]\n",
    "#                 print(name)\n",
    "                color=(255,255,255)\n",
    "                s=2\n",
    "                cv2.putText(frame,name,(x,y),font,1,color,s,cv2.LINE_AA)\n",
    "            color = (255,0,0)\n",
    "            s = 2\n",
    "            end_x = x+ w\n",
    "            end_y = y +h\n",
    "            cv2.rectangle(frame,(x,y),(end_x,end_y ),color,s)\n",
    "\n",
    "        cv2.imshow('frame',frame)\n",
    "        if cv2.waitKey(20) & 0xFF == ord('q'):\n",
    "            break\n",
    "\n",
    "    # When everything done, release the capture\n",
    "    cap.release()\n",
    "    cv2.destroyAllWindows()"
   ]
  },
  {
   "cell_type": "code",
   "execution_count": null,
   "metadata": {},
   "outputs": [],
   "source": [
    "from tkinter import *\n"
   ]
  },
  {
   "cell_type": "code",
   "execution_count": null,
   "metadata": {},
   "outputs": [],
   "source": [
    "def dis():\n",
    "#     lbl = Label(text=name)\n",
    "#     lbl.config(anchor=CENTER)\n",
    "#     lbl.pack()\n",
    "    f = open(r'C:\\Users\\internet\\Desktop\\mini\\face_recognisation\\history\\%s.txt' % name, 'r')\n",
    "    T= Text(window, height=20, width=50)\n",
    "    T.pack()\n",
    "    T.insert(1.0,f.read())\n",
    "#     lb2.config(anchor=CENTER)\n",
    "#     lb2.pack()\n",
    "    \n",
    "    "
   ]
  },
  {
   "cell_type": "raw",
   "metadata": {},
   "source": [
    "\n"
   ]
  },
  {
   "cell_type": "code",
   "execution_count": null,
   "metadata": {
    "scrolled": true
   },
   "outputs": [],
   "source": [
    "window=Tk()\n",
    "label1 =Label(text=\"Please click the button to recognise\",font=\"none 12 bold\",fg=\"blue\")\n",
    "# label1.grid(column=10, row=10 )\n",
    "label1.config(anchor=CENTER)\n",
    "label1.pack()\n",
    "btn=Button(window, text=\"Recognize\", fg='blue',command=abcd)\n",
    "btn.config(anchor=CENTER)\n",
    "btn.pack()\n",
    "btn2=Button(window, text=\"show details\", fg='blue',command=dis)\n",
    "btn2.config(anchor=CENTER)\n",
    "btn2.pack()\n",
    "sc=Scrollbar(window,orient=VERTICAL)\n",
    "sc.config( command = dis )\n",
    "\n",
    "# btn.place(x=100, y=100)\n",
    "\n",
    "window.title('CRIMINAL IDENTIFIER')\n",
    "window.geometry(\"600x600\")\n",
    "window.mainloop()"
   ]
  },
  {
   "cell_type": "code",
   "execution_count": null,
   "metadata": {},
   "outputs": [],
   "source": [
    "# type(name"
   ]
  },
  {
   "cell_type": "code",
   "execution_count": null,
   "metadata": {},
   "outputs": [],
   "source": []
  },
  {
   "cell_type": "code",
   "execution_count": null,
   "metadata": {},
   "outputs": [],
   "source": []
  }
 ],
 "metadata": {
  "kernelspec": {
   "display_name": "Python 3",
   "language": "python",
   "name": "python3"
  },
  "language_info": {
   "codemirror_mode": {
    "name": "ipython",
    "version": 3
   },
   "file_extension": ".py",
   "mimetype": "text/x-python",
   "name": "python",
   "nbconvert_exporter": "python",
   "pygments_lexer": "ipython3",
   "version": "3.7.3"
  }
 },
 "nbformat": 4,
 "nbformat_minor": 2
}
