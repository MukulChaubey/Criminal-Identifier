{
 "cells": [
  {
   "cell_type": "code",
   "execution_count": 4,
   "metadata": {},
   "outputs": [],
   "source": [
    "import cv2"
   ]
  },
  {
   "cell_type": "code",
   "execution_count": 5,
   "metadata": {},
   "outputs": [],
   "source": [
    "face_cascade = cv2.CascadeClassifier('data/haarcascade_frontalface_default.xml')\n",
    "cap =cv2.VideoCapture(0)"
   ]
  },
  {
   "cell_type": "code",
   "execution_count": 6,
   "metadata": {},
   "outputs": [],
   "source": [
    "while(True):\n",
    "    ret,frame =cap.read()\n",
    "    gray = cv2.cvtColor(frame, cv2.COLOR_BGR2GRAY)\n",
    "    faces = face_cascade.detectMultiScale(gray , scaleFactor=1.5, minNeighbors=5)\n",
    "    for (x,y,w,h) in faces:\n",
    "        roi_gray = frame[y:y+h,x:x+w]\n",
    "        img_item=\"6.jpg\"\n",
    "        cv2.imwrite(img_item,roi_gray)\n",
    "#         id_,conf = recognizer.predict(roi_gray)\n",
    "#         if conf>=45 :\n",
    "#             print(id_)\n",
    "#             print(labels[id_])\n",
    "        color = (255,0,0)\n",
    "        stroke = 2\n",
    "        end_cord_x = x+ w\n",
    "        end_cord_y = y +h\n",
    "        cv2.rectangle(frame,(x,y),(end_cord_x,end_cord_y ),color,stroke)\n",
    "        \n",
    "    cv2.imshow('frame',frame)\n",
    "    if cv2.waitKey(20) & 0xFF == ord('q'):\n",
    "        break\n",
    "\n",
    "# When everything done, release the capture\n",
    "cap.release()\n",
    "cv2.destroyAllWindows()"
   ]
  },
  {
   "cell_type": "code",
   "execution_count": null,
   "metadata": {},
   "outputs": [],
   "source": []
  }
 ],
 "metadata": {
  "kernelspec": {
   "display_name": "Python 3",
   "language": "python",
   "name": "python3"
  },
  "language_info": {
   "codemirror_mode": {
    "name": "ipython",
    "version": 3
   },
   "file_extension": ".py",
   "mimetype": "text/x-python",
   "name": "python",
   "nbconvert_exporter": "python",
   "pygments_lexer": "ipython3",
   "version": "3.7.3"
  }
 },
 "nbformat": 4,
 "nbformat_minor": 2
}
